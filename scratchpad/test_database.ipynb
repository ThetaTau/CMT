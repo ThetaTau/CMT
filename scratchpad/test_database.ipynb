{
 "metadata": {
  "language_info": {
   "codemirror_mode": {
    "name": "ipython",
    "version": 3
   },
   "file_extension": ".py",
   "mimetype": "text/x-python",
   "name": "python",
   "nbconvert_exporter": "python",
   "pygments_lexer": "ipython3",
   "version": 3
  },
  "orig_nbformat": 2,
  "kernelspec": {
   "name": "python_defaultSpec_1596447007451",
   "display_name": "Python 3.7.7 64-bit"
  }
 },
 "nbformat": 4,
 "nbformat_minor": 2,
 "cells": [
  {
   "cell_type": "code",
   "execution_count": null,
   "metadata": {
    "tags": []
   },
   "outputs": [],
   "source": [
    "import os\n",
    "os.chdir(\"../\")\n",
    "os.getcwd()\n",
    "os.environ.setdefault(\"DJANGO_SETTINGS_MODULE\", \"config.settings.local_ventura\")"
   ]
  },
  {
   "cell_type": "code",
   "execution_count": null,
   "metadata": {},
   "outputs": [],
   "source": [
    "import django\n",
    "from django_pandas.io import read_frame\n",
    "import plotly.express as px\n",
    "%matplotlib inline\n",
    "import numpy as np\n",
    "import matplotlib.pyplot as plt"
   ]
  },
  {
   "cell_type": "code",
   "execution_count": null,
   "metadata": {},
   "outputs": [],
   "source": [
    "django.setup()"
   ]
  },
  {
   "cell_type": "code",
   "execution_count": null,
   "metadata": {
    "tags": []
   },
   "outputs": [],
   "source": [
    "from chapters.models import Chapter\n",
    "from scores.models import ScoreType\n",
    "from regions.models import Region\n",
    "from forms.models import Depledge\n",
    "from django.db import models\n",
    "from core import models as core_models\n",
    "from events.models import Event\n",
    "from forms.models import Initiation, StatusChange\n",
    "from tasks.models import TaskChapter\n",
    "from users.models import UserRoleChange, UserOrgParticipate, UserSemesterServiceHours, UserSemesterGPA, User, UserStatusChange\n"
   ]
  },
  {
   "cell_type": "code",
   "execution_count": null,
   "metadata": {},
   "outputs": [],
   "source": [
    "from users.tests.factories import UserFactory\n",
    "from chapters.tests.factories import ChapterFactory"
   ]
  },
  {
   "cell_type": "code",
   "execution_count": null,
   "metadata": {
    "tags": []
   },
   "outputs": [],
   "source": [
    "test = Chapter.objects.filter(name=\"theta delta\").first()\n",
    "print(test)"
   ]
  },
  {
   "cell_type": "code",
   "execution_count": null,
   "metadata": {},
   "outputs": [],
   "source": [
    "UserFactory.create_batch(10, chapter=test, status=\"active\", graduation_year=2020)\n",
    "UserFactory.create_batch(15, chapter=test, status=\"active\", graduation_year=2021)\n",
    "UserFactory.create_batch(17, chapter=test, status=\"active\", graduation_year=2022)\n",
    "UserFactory.create_batch(5, chapter=test, status=\"active\", graduation_year=2023)"
   ]
  },
  {
   "cell_type": "code",
   "execution_count": null,
   "metadata": {},
   "outputs": [],
   "source": [
    "UserFactory.create_batch(10, chapter=test, status=\"alumni\", graduation_year=2019)\n",
    "UserFactory.create_batch(6, chapter=test, status=\"alumni\", graduation_year=2018)\n",
    "UserFactory.create_batch(7, chapter=test, status=\"alumni\", graduation_year=2017)\n",
    "UserFactory.create_batch(8, chapter=test, status=\"alumni\", graduation_year=2016)\n",
    "UserFactory.create_batch(12, chapter=test, status=\"alumni\", graduation_year=2015)"
   ]
  },
  {
   "cell_type": "code",
   "execution_count": null,
   "metadata": {},
   "outputs": [],
   "source": [
    "UserFactory.create_batch(5, chapter=test, status=\"away\", graduation_year=2019)\n",
    "UserFactory.create_batch(3, chapter=test, status=\"away\", graduation_year=2018)\n",
    "UserFactory.create_batch(7, chapter=test, status=\"away\", graduation_year=2017)\n",
    "UserFactory.create_batch(4, chapter=test, status=\"away\", graduation_year=2016)\n",
    "UserFactory.create_batch(6, chapter=test, status=\"away\", graduation_year=2015)"
   ]
  },
  {
   "cell_type": "code",
   "execution_count": null,
   "metadata": {},
   "outputs": [],
   "source": [
    "UserFactory.create_batch(2, chapter=test, status=\"pnm\", graduation_year=2021)\n",
    "UserFactory.create_batch(6, chapter=test, status=\"pnm\", graduation_year=2022)\n",
    "UserFactory.create_batch(5, chapter=test, status=\"pnm\", graduation_year=2023)\n",
    "UserFactory.create_batch(2, chapter=test, status=\"depledge\", graduation_year=2022)"
   ]
  },
  {
   "cell_type": "code",
   "execution_count": null,
   "metadata": {
    "tags": []
   },
   "outputs": [],
   "source": [
    "test.actives().count()"
   ]
  },
  {
   "cell_type": "code",
   "execution_count": null,
   "metadata": {},
   "outputs": [],
   "source": [
    "test.pledges().count()"
   ]
  },
  {
   "cell_type": "code",
   "execution_count": null,
   "metadata": {},
   "outputs": [],
   "source": [
    "test.alumnis().count()"
   ]
  },
  {
   "cell_type": "code",
   "execution_count": null,
   "metadata": {},
   "outputs": [],
   "source": [
    "test.depledges().count()"
   ]
  },
  {
   "cell_type": "code",
   "execution_count": null,
   "metadata": {},
   "outputs": [],
   "source": [
    "df = read_frame(test.actives())"
   ]
  },
  {
   "cell_type": "code",
   "execution_count": null,
   "metadata": {},
   "outputs": [],
   "source": [
    "df.head()"
   ]
  },
  {
   "cell_type": "markdown",
   "metadata": {},
   "source": [
    "## GRAPH NUMBER OF ACTIVES/INACTIVES/EARLY ALUMS"
   ]
  },
  {
   "cell_type": "code",
   "execution_count": null,
   "metadata": {},
   "outputs": [],
   "source": [
    "test.actives()"
   ]
  },
  {
   "cell_type": "code",
   "execution_count": null,
   "metadata": {},
   "outputs": [],
   "source": [
    "import plotly.graph_objects as go\n",
    "import numpy as np"
   ]
  },
  {
   "cell_type": "code",
   "execution_count": null,
   "metadata": {},
   "outputs": [],
   "source": [
    "colors = {\n",
    "    'actives': 'darkred',\n",
    "    'pledges': 'gold',\n",
    "    'alumnis': 'black',\n",
    "    'events': 'green',\n",
    "    'submissions': 'yellow',\n",
    "    'Bro': 'darkred',\n",
    "    'Ops': 'skyblue',\n",
    "    'Pro': 'gold',\n",
    "    'Ser': 'magenta',\n",
    "    'volunteer': 'darkred',\n",
    "    'time': 'skyblue',\n",
    "    'grades': 'gold',\n",
    "    'interest': 'magenta',\n",
    "    'vote': 'orange',\n",
    "    'withdrew': 'grey',\n",
    "    'transfer': 'turquoise',\n",
    "    'other': 'turquoise',\n",
    "}\n",
    "\n",
    "YEARS = [\n",
    "    2015,\n",
    "    2016,\n",
    "    2017,\n",
    "    2018,\n",
    "    2019,\n",
    "    2020,\n",
    "]"
   ]
  },
  {
   "cell_type": "code",
   "execution_count": null,
   "metadata": {},
   "outputs": [],
   "source": [
    "test.get_actives_for_date('2020-01-01').count()"
   ]
  },
  {
   "cell_type": "code",
   "execution_count": null,
   "metadata": {},
   "outputs": [],
   "source": [
    "from datetime import datetime"
   ]
  },
  {
   "cell_type": "code",
   "execution_count": null,
   "metadata": {},
   "outputs": [],
   "source": [
    "date = datetime(2020,1,1)"
   ]
  },
  {
   "cell_type": "code",
   "execution_count": null,
   "metadata": {
    "tags": []
   },
   "outputs": [],
   "source": [
    "print(date)"
   ]
  },
  {
   "cell_type": "code",
   "execution_count": null,
   "metadata": {
    "tags": []
   },
   "outputs": [],
   "source": [
    "DataOut = []\n",
    "labels = [\"Actives\", \"Alumnis\", \"Pledges\"]\n",
    "style = [colors['actives'], colors['alumnis'], colors['pledges']]\n",
    "legend=True\n",
    "\n",
    "'''\n",
    "for year in YEARS:\n",
    "    date=str(year)+\"-01-01\"\n",
    "    DataOut.append(test.get_actives_for_date(date).count())\n",
    "    DataOut.append(test.alumnis().count())\n",
    "    DataOut.append(test.depledges().count())\n",
    "'''\n",
    "\n",
    "date=\"2020-01-01\"\n",
    "DataOut.append(test.get_actives_for_date(date).count())\n",
    "DataOut.append(test.alumnis().count())\n",
    "DataOut.append(test.depledges().count())\n",
    "\n",
    "pie = go.Figure(data=[go.Pie(labels=labels, values=DataOut)])\n",
    "pie.update_traces(marker=dict(colors=style))\n",
    "pie.update_layout(\n",
    "    title={\n",
    "        \"text\": \"CHAPTER MEMBERSHIP STATUS\",\n",
    "        \"y\": 0.9,\n",
    "        \"x\": 0.5,\n",
    "        \"xanchor\": \"center\",\n",
    "        \"yanchor\": \"top\",\n",
    "    }\n",
    ")\n"
   ]
  },
  {
   "cell_type": "markdown",
   "metadata": {},
   "source": [
    "## CHAPTER SIZE BY SEMESTER OVER TIME"
   ]
  },
  {
   "cell_type": "code",
   "execution_count": null,
   "metadata": {},
   "outputs": [],
   "source": [
    "UserFactory.create_batch(10, chapter=test, status=\"active\", date_joined=\"2019-07-22 04:49:38.144534-07\")"
   ]
  },
  {
   "cell_type": "code",
   "execution_count": null,
   "metadata": {
    "tags": []
   },
   "outputs": [],
   "source": [
    "DataOut = []\n",
    "\n",
    "for year in YEARS:\n",
    "    date=str(year)+\"-01-01\"\n",
    "    trace = go.Bar(\n",
    "        name=f\"Actives\",\n",
    "        x=[str(year)],\n",
    "        y=[test.get_actives_for_date(date).count()],\n",
    "        marker=dict(color=colors['actives']),\n",
    "        showlegend=False,\n",
    "    )\n",
    "    DataOut.append(trace)\n",
    "    trace = go.Bar(\n",
    "        name=f\"Alumnis\",\n",
    "        x=[str(year)],\n",
    "        y=[test.alumnis().count()],\n",
    "        marker=dict(color=colors['alumnis']),\n",
    "        showlegend=False,\n",
    "    )\n",
    "    DataOut.append(trace)\n",
    "    trace = go.Bar(\n",
    "        name=f\"Pledges\",\n",
    "        x=[str(year)],\n",
    "        y=[test.pledges().count()],\n",
    "        marker=dict(color=colors['pledges']),\n",
    "        showlegend=False,\n",
    "    )\n",
    "\n",
    "fig = go.Figure(data=DataOut)\n",
    "\n",
    "fig.update_layout(\n",
    "    barmode=\"stack\",\n",
    "    title={\n",
    "        \"text\": \"CHAPTER SIZE OVER TIME\",\n",
    "        \"y\": 0.9,\n",
    "        \"x\": 0.5,\n",
    "        \"xanchor\": \"center\",\n",
    "        \"yanchor\": \"top\",\n",
    "    }\n",
    ")\n",
    "\n"
   ]
  },
  {
   "cell_type": "code",
   "execution_count": null,
   "metadata": {},
   "outputs": [],
   "source": [
    "UserFactory.create_batch(13, chapter=test, status=\"pnm\", date_joined=\"2015-07-22 04:49:38.135727-07\")\n",
    "UserFactory.create_batch(10, chapter=test, status=\"pnm\", date_joined=\"2016-07-22 04:49:38.135727-07\")\n",
    "UserFactory.create_batch(9, chapter=test, status=\"pnm\", date_joined=\"2017-07-22 04:49:38.135727-07\")\n",
    "UserFactory.create_batch(15, chapter=test, status=\"pnm\", date_joined=\"2018-07-22 04:49:38.135727-07\")\n",
    "UserFactory.create_batch(12, chapter=test, status=\"pnm\", date_joined=\"2019-07-22 04:49:38.135727-07\")\n",
    "UserFactory.create_batch(11, chapter=test, status=\"pnm\", date_joined=\"2020-07-22 04:49:38.135727-07\")\n",
    "UserFactory.create_batch(1, chapter=test, status=\"depledge\", date_joined=\"2015-07-22 04:49:38.135727-07\")\n",
    "UserFactory.create_batch(2, chapter=test, status=\"depledge\", date_joined=\"2016-07-22 04:49:38.135727-07\")\n",
    "UserFactory.create_batch(4, chapter=test, status=\"depledge\", date_joined=\"2017-07-22 04:49:38.135727-07\")\n",
    "UserFactory.create_batch(3, chapter=test, status=\"depledge\", date_joined=\"2018-07-22 04:49:38.135727-07\")\n",
    "UserFactory.create_batch(2, chapter=test, status=\"depledge\", date_joined=\"2019-07-22 04:49:38.135727-07\")\n",
    "UserFactory.create_batch(0, chapter=test, status=\"depledge\", date_joined=\"2020-07-22 04:49:38.135727-07\")"
   ]
  },
  {
   "cell_type": "code",
   "execution_count": null,
   "metadata": {},
   "outputs": [],
   "source": [
    "test.get_depledges_for_date(\"2018-01-01\").count()"
   ]
  },
  {
   "cell_type": "code",
   "execution_count": null,
   "metadata": {
    "tags": []
   },
   "outputs": [],
   "source": [
    "string = \"hello,one,two\"\n",
    "l = string.split(\",\")\n",
    "print(l)\n"
   ]
  },
  {
   "cell_type": "code",
   "execution_count": null,
   "metadata": {},
   "outputs": [],
   "source": [
    "test.get_status_for_date(\"active\", \"2020\", 1).count()"
   ]
  },
  {
   "cell_type": "code",
   "execution_count": null,
   "metadata": {},
   "outputs": [],
   "source": [
    "test.get_status_for_date(\"active\", \"2020\", 2).count()"
   ]
  },
  {
   "cell_type": "code",
   "execution_count": null,
   "metadata": {},
   "outputs": [],
   "source": [
    "test.get_status_for_date(\"depledge\", \"2015\", 2).count()"
   ]
  },
  {
   "cell_type": "code",
   "execution_count": null,
   "metadata": {
    "tags": []
   },
   "outputs": [],
   "source": [
    "test.actives().count()"
   ]
  },
  {
   "cell_type": "code",
   "execution_count": null,
   "metadata": {},
   "outputs": [],
   "source": [
    "test.all_members().count() # query all chapter members"
   ]
  },
  {
   "cell_type": "code",
   "execution_count": null,
   "metadata": {},
   "outputs": [],
   "source": [
    "User.objects.all().count()"
   ]
  },
  {
   "cell_type": "code",
   "execution_count": null,
   "metadata": {
    "tags": []
   },
   "outputs": [],
   "source": [
    "users = User.objects.filter(chapter=test)\n",
    "print(users.query)"
   ]
  },
  {
   "cell_type": "code",
   "execution_count": null,
   "metadata": {},
   "outputs": [],
   "source": [
    "df_users = read_frame(User.objects.filter(chapter=test))\n",
    "df_users.head()"
   ]
  },
  {
   "cell_type": "code",
   "execution_count": null,
   "metadata": {},
   "outputs": [],
   "source": [
    "users_status = UserStatusChange.objects.all()"
   ]
  },
  {
   "cell_type": "code",
   "execution_count": null,
   "metadata": {
    "tags": []
   },
   "outputs": [],
   "source": [
    "print(users_status.query)"
   ]
  },
  {
   "cell_type": "code",
   "execution_count": null,
   "metadata": {
    "tags": []
   },
   "outputs": [],
   "source": [
    "df_status = read_frame(UserStatusChange.objects.all())\n",
    "df_status.head()"
   ]
  },
  {
   "cell_type": "code",
   "execution_count": null,
   "metadata": {
    "tags": []
   },
   "outputs": [],
   "source": [
    "a1 = UserStatusChange.objects.select_related(\"user\")\n",
    "print(a1.query)"
   ]
  },
  {
   "cell_type": "code",
   "execution_count": null,
   "metadata": {},
   "outputs": [],
   "source": [
    "df"
   ]
  },
  {
   "cell_type": "code",
   "execution_count": null,
   "metadata": {},
   "outputs": [],
   "source": [
    "UserStatusChange.objects.filter(user__chapter=test).count()"
   ]
  },
  {
   "cell_type": "code",
   "execution_count": null,
   "metadata": {},
   "outputs": [],
   "source": [
    "User.objects.filter(chapter=test).count()"
   ]
  },
  {
   "cell_type": "code",
   "execution_count": null,
   "metadata": {},
   "outputs": [],
   "source": [
    "df_users = User.objects.filter(chapter=test) # query chapter members\n",
    "df_userstatus = UserStatusChange.objects.filter(user__chapter=test) # query user status for members in chapter"
   ]
  },
  {
   "cell_type": "code",
   "execution_count": null,
   "metadata": {},
   "outputs": [],
   "source": [
    "df_users.aggregate(UserStatusChange('status'))"
   ]
  },
  {
   "cell_type": "code",
   "execution_count": null,
   "metadata": {},
   "outputs": [],
   "source": []
  }
 ]
}